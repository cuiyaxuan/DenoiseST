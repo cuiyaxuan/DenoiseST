{
 "cells": [
  {
   "cell_type": "code",
   "execution_count": null,
   "id": "9122afc6",
   "metadata": {},
   "outputs": [
    {
     "name": "stderr",
     "output_type": "stream",
     "text": [
      "/home/cuiyaxuan/anaconda3/envs/pytorch/lib/python3.8/site-packages/tqdm/auto.py:22: TqdmWarning: IProgress not found. Please update jupyter and ipywidgets. See https://ipywidgets.readthedocs.io/en/stable/user_install.html\n",
      "  from .autonotebook import tqdm as notebook_tqdm\n",
      "/home/cuiyaxuan/anaconda3/envs/pytorch/lib/python3.8/site-packages/anndata/_core/anndata.py:1830: UserWarning: Variable names are not unique. To make them unique, call `.var_names_make_unique`.\n",
      "  utils.warn_names_duplicates(\"var\")\n",
      "/home/cuiyaxuan/anaconda3/envs/pytorch/lib/python3.8/site-packages/scanpy/readwrite.py:413: DtypeWarning: Columns (1,2,3,4,5) have mixed types. Specify dtype option on import or set low_memory=False.\n",
      "  positions = pd.read_csv(files['tissue_positions_file'], header=None)\n"
     ]
    }
   ],
   "source": [
    "from DenoiseST_HD import DenoiseST\n",
    "import os\n",
    "import torch\n",
    "import pandas as pd\n",
    "import scanpy as sc\n",
    "from sklearn import metrics\n",
    "import multiprocessing as mp\n",
    "\n",
    "def setup_seed(seed=41):\n",
    "    import torch\n",
    "    import os\n",
    "    import numpy as np\n",
    "    import random\n",
    "    torch.manual_seed(seed)  \n",
    "    np.random.seed(seed)  # Numpy module.\n",
    "    random.seed(seed)  # Python random module.\n",
    "    if torch.cuda.is_available():\n",
    "        # torch.backends.cudnn.benchmark = False\n",
    "        torch.backends.cudnn.deterministic = True\n",
    "        torch.cuda.manual_seed(seed)  \n",
    "        torch.cuda.manual_seed_all(seed) \n",
    "        #os.environ['PYTHONHASHSEED'] = str(seed)\n",
    "\n",
    "setup_seed(41)\n",
    "\n",
    "device = torch.device('cpu')\n",
    "# call 24 cpu cores\n",
    "torch.set_num_threads(24)\n",
    "\n",
    "\n",
    "n_clusters = 20  ###### the number of spatial domains.\n",
    "file_fold = '/home/cuiyaxuan/spatialLIBD/square_016um/' #### to your path\n",
    "adata = sc.read_visium(file_fold, count_file='filtered_feature_bc_matrix.h5', load_images=True) #### project name\n",
    "adata.var_names_make_unique()\n",
    "model = DenoiseST(adata,device=device,n_top_genes=5000)\n",
    "adata = model.train()\n",
    "radius = 50\n",
    "tool = 'mclust' # mclust, leiden, and louvain\n",
    "from utils import clustering\n",
    "\n",
    "if tool == 'mclust':\n",
    "   clustering(adata, n_clusters, radius=radius, method=tool, refinement=False)\n",
    "elif tool in ['leiden', 'louvain']:\n",
    "   clustering(adata, n_clusters, radius=radius, method=tool, start=0.1, end=2.0, increment=0.01, refinement=False)\n",
    "\n",
    "adata.obs['domain']\n",
    "adata.obs['domain'].to_csv(\"label.csv\")\n"
   ]
  },
  {
   "cell_type": "code",
   "execution_count": null,
   "id": "2cdd821a",
   "metadata": {},
   "outputs": [],
   "source": []
  }
 ],
 "metadata": {
  "kernelspec": {
   "display_name": "Python [conda env:pytorch]",
   "language": "python",
   "name": "conda-env-pytorch-py"
  },
  "language_info": {
   "codemirror_mode": {
    "name": "ipython",
    "version": 3
   },
   "file_extension": ".py",
   "mimetype": "text/x-python",
   "name": "python",
   "nbconvert_exporter": "python",
   "pygments_lexer": "ipython3",
   "version": "3.8.15"
  }
 },
 "nbformat": 4,
 "nbformat_minor": 5
}
